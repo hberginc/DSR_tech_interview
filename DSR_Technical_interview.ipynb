{
 "cells": [
  {
   "cell_type": "markdown",
   "metadata": {
    "id": "4VmeTijPiOXJ"
   },
   "source": [
    "## Python/ML Interview Questions\n"
   ]
  },
  {
   "cell_type": "markdown",
   "metadata": {},
   "source": [
    "### Debug Random Forest\n",
    "\n",
    "Context: After watching your Random Forest lecture one of your students decides to play with the sklearn's Random Forest Classifier using the iris dataset.\n",
    "\n",
    "They find that the results are poor, and are really confused why, playing with parameters hasn't helpped much and they were expecting to get accuracy scores similar to lecture. "
   ]
  },
  {
   "cell_type": "code",
   "execution_count": 40,
   "metadata": {},
   "outputs": [
    {
     "name": "stdout",
     "output_type": "stream",
     "text": [
      "Training set accuracy:   0.5466666666666666\n",
      "Validation set accuracy: 0.3466666666666667\n"
     ]
    }
   ],
   "source": [
    "from sklearn.datasets import load_iris\n",
    "from sklearn.ensemble import RandomForestClassifier\n",
    "from sklearn.model_selection import train_test_split\n",
    "\n",
    "iris = load_iris()\n",
    "\n",
    "\n",
    "X, y = iris.data, iris.target\n",
    "\n",
    "X_train, X_test, y_test, y_train = \\\n",
    "        train_test_split(X, y, test_size=0.5, random_state=42)\n",
    "\n",
    "rf_model = RandomForestClassifier(n_estimators=10, max_depth = 2, random_state=42)\n",
    "rf_model.fit(X_train, y_train)\n",
    "\n",
    "print('Training set accuracy:  ', rf_model.score(X_train, y_train))\n",
    "print('Validation set accuracy:', rf_model.score(X_test, y_test))"
   ]
  },
  {
   "cell_type": "markdown",
   "metadata": {
    "collapsed": true,
    "id": "Z9v6nOO3iOXv"
   },
   "source": [
    "### Debug Pandas\n",
    "\n",
    "\n",
    "Your student is working with this dataframe shown below. They were instructed to first, filter their data frame to return movies that had a world wide gross of over 20 Million Dollars and were then instructed to filter their dataframe of movies down to only the movies that received the highest rankings. They successfully performed the first filter but are getting errors on the second; aid them in figuring out what is going on here."
   ]
  },
  {
   "cell_type": "code",
   "execution_count": 33,
   "metadata": {
    "colab": {
     "base_uri": "https://localhost:8080/",
     "height": 111
    },
    "id": "1FJEmOGniOXv",
    "outputId": "9f74de70-f809-4e68-ab42-4222585d4ae5"
   },
   "outputs": [
    {
     "data": {
      "text/html": [
       "<div>\n",
       "<style scoped>\n",
       "    .dataframe tbody tr th:only-of-type {\n",
       "        vertical-align: middle;\n",
       "    }\n",
       "\n",
       "    .dataframe tbody tr th {\n",
       "        vertical-align: top;\n",
       "    }\n",
       "\n",
       "    .dataframe thead th {\n",
       "        text-align: right;\n",
       "    }\n",
       "</style>\n",
       "<table border=\"1\" class=\"dataframe\">\n",
       "  <thead>\n",
       "    <tr style=\"text-align: right;\">\n",
       "      <th></th>\n",
       "      <th>userID</th>\n",
       "      <th>movieID</th>\n",
       "      <th>worldwide_gross</th>\n",
       "      <th>rank</th>\n",
       "    </tr>\n",
       "  </thead>\n",
       "  <tbody>\n",
       "    <tr>\n",
       "      <th>1</th>\n",
       "      <td>UA28B</td>\n",
       "      <td>MI5722L</td>\n",
       "      <td>26.66</td>\n",
       "      <td>4</td>\n",
       "    </tr>\n",
       "    <tr>\n",
       "      <th>2</th>\n",
       "      <td>UB1811</td>\n",
       "      <td>M273P</td>\n",
       "      <td>41.94</td>\n",
       "      <td>1</td>\n",
       "    </tr>\n",
       "    <tr>\n",
       "      <th>4</th>\n",
       "      <td>UA28B</td>\n",
       "      <td>M273P</td>\n",
       "      <td>34.76</td>\n",
       "      <td>2</td>\n",
       "    </tr>\n",
       "  </tbody>\n",
       "</table>\n",
       "</div>"
      ],
      "text/plain": [
       "   userID  movieID  worldwide_gross  rank\n",
       "1   UA28B  MI5722L            26.66     4\n",
       "2  UB1811    M273P            41.94     1\n",
       "4   UA28B    M273P            34.76     2"
      ]
     },
     "execution_count": 33,
     "metadata": {},
     "output_type": "execute_result"
    }
   ],
   "source": [
    "import pandas as pd\n",
    "df_movies = pd.DataFrame({'userID':  ['U2724', 'UA28B',   'UB1811', 'U781',  'UA28B'],\n",
    "                          'movieID': ['M273L', 'MI5722L', 'M273P',  'M273L', 'M273P'],\n",
    "                          'worldwide_gross' : [19.62, 26.66, 41.94, 0.03, 34.76],\n",
    "                          'rank':    [3,       4,         1,      5,     2]})\n",
    "\n",
    "profitable_movies = df_movies[df_movies.worldwide_gross >= 20]\n",
    "profitable_movies"
   ]
  },
  {
   "cell_type": "code",
   "execution_count": 34,
   "metadata": {},
   "outputs": [
    {
     "ename": "TypeError",
     "evalue": "'<=' not supported between instances of 'method' and 'int'",
     "output_type": "error",
     "traceback": [
      "\u001b[0;31m---------------------------------------------------------------------------\u001b[0m",
      "\u001b[0;31mTypeError\u001b[0m                                 Traceback (most recent call last)",
      "\u001b[0;32m<ipython-input-34-fdc5fa3b1a99>\u001b[0m in \u001b[0;36m<module>\u001b[0;34m\u001b[0m\n\u001b[0;32m----> 1\u001b[0;31m \u001b[0mgood_movies\u001b[0m \u001b[0;34m=\u001b[0m \u001b[0mdf_movies\u001b[0m\u001b[0;34m[\u001b[0m\u001b[0mdf_movies\u001b[0m\u001b[0;34m.\u001b[0m\u001b[0mrank\u001b[0m \u001b[0;34m<=\u001b[0m \u001b[0;36m2\u001b[0m\u001b[0;34m]\u001b[0m\u001b[0;34m\u001b[0m\u001b[0;34m\u001b[0m\u001b[0m\n\u001b[0m\u001b[1;32m      2\u001b[0m \u001b[0;34m\u001b[0m\u001b[0m\n\u001b[1;32m      3\u001b[0m \u001b[0mgood_movies\u001b[0m\u001b[0;34m\u001b[0m\u001b[0;34m\u001b[0m\u001b[0m\n",
      "\u001b[0;31mTypeError\u001b[0m: '<=' not supported between instances of 'method' and 'int'"
     ]
    }
   ],
   "source": [
    "good_movies = df_movies[df_movies.rank <= 2]\n",
    "\n",
    "good_movies"
   ]
  },
  {
   "cell_type": "markdown",
   "metadata": {
    "id": "4ceSDZ-Qc1YM"
   },
   "source": [
    "### Debug Linear Regression\n",
    "\n",
    "Context: Students are asked to play around with sklearns linear regression class to predict housing prices from the Boston Dataset. They are first asked to fit a model only using the feature, \"RM\". This would predict price of the house soley on the average number of rooms per dwelling. \n",
    "\n",
    "They keep getting an error and cannot seem to get past it; aid them in solving this issue. "
   ]
  },
  {
   "cell_type": "code",
   "execution_count": 48,
   "metadata": {},
   "outputs": [
    {
     "data": {
      "text/html": [
       "<div>\n",
       "<style scoped>\n",
       "    .dataframe tbody tr th:only-of-type {\n",
       "        vertical-align: middle;\n",
       "    }\n",
       "\n",
       "    .dataframe tbody tr th {\n",
       "        vertical-align: top;\n",
       "    }\n",
       "\n",
       "    .dataframe thead th {\n",
       "        text-align: right;\n",
       "    }\n",
       "</style>\n",
       "<table border=\"1\" class=\"dataframe\">\n",
       "  <thead>\n",
       "    <tr style=\"text-align: right;\">\n",
       "      <th></th>\n",
       "      <th>CRIM</th>\n",
       "      <th>ZN</th>\n",
       "      <th>INDUS</th>\n",
       "      <th>CHAS</th>\n",
       "      <th>NOX</th>\n",
       "      <th>RM</th>\n",
       "      <th>AGE</th>\n",
       "      <th>DIS</th>\n",
       "      <th>RAD</th>\n",
       "      <th>TAX</th>\n",
       "      <th>PTRATIO</th>\n",
       "      <th>B</th>\n",
       "      <th>LSTAT</th>\n",
       "      <th>target</th>\n",
       "    </tr>\n",
       "  </thead>\n",
       "  <tbody>\n",
       "    <tr>\n",
       "      <th>0</th>\n",
       "      <td>0.00632</td>\n",
       "      <td>18.0</td>\n",
       "      <td>2.31</td>\n",
       "      <td>0.0</td>\n",
       "      <td>0.538</td>\n",
       "      <td>6.575</td>\n",
       "      <td>65.2</td>\n",
       "      <td>4.0900</td>\n",
       "      <td>1.0</td>\n",
       "      <td>296.0</td>\n",
       "      <td>15.3</td>\n",
       "      <td>396.9</td>\n",
       "      <td>4.98</td>\n",
       "      <td>24.0</td>\n",
       "    </tr>\n",
       "    <tr>\n",
       "      <th>1</th>\n",
       "      <td>0.02731</td>\n",
       "      <td>0.0</td>\n",
       "      <td>7.07</td>\n",
       "      <td>0.0</td>\n",
       "      <td>0.469</td>\n",
       "      <td>6.421</td>\n",
       "      <td>78.9</td>\n",
       "      <td>4.9671</td>\n",
       "      <td>2.0</td>\n",
       "      <td>242.0</td>\n",
       "      <td>17.8</td>\n",
       "      <td>396.9</td>\n",
       "      <td>9.14</td>\n",
       "      <td>21.6</td>\n",
       "    </tr>\n",
       "  </tbody>\n",
       "</table>\n",
       "</div>"
      ],
      "text/plain": [
       "      CRIM    ZN  INDUS  CHAS    NOX     RM   AGE     DIS  RAD    TAX  \\\n",
       "0  0.00632  18.0   2.31   0.0  0.538  6.575  65.2  4.0900  1.0  296.0   \n",
       "1  0.02731   0.0   7.07   0.0  0.469  6.421  78.9  4.9671  2.0  242.0   \n",
       "\n",
       "   PTRATIO      B  LSTAT  target  \n",
       "0     15.3  396.9   4.98    24.0  \n",
       "1     17.8  396.9   9.14    21.6  "
      ]
     },
     "execution_count": 48,
     "metadata": {},
     "output_type": "execute_result"
    }
   ],
   "source": [
    "from sklearn.datasets import load_boston\n",
    "from sklearn.linear_model import LinearRegression\n",
    "from sklearn.model_selection import train_test_split\n",
    "\n",
    "boston = load_boston()\n",
    "housing_df = pd.DataFrame(boston.data, columns=boston.feature_names)\n",
    "housing_df['target'] = pd.Series(boston.target)\n",
    "housing_df.head(2)"
   ]
  },
  {
   "cell_type": "code",
   "execution_count": 71,
   "metadata": {},
   "outputs": [
    {
     "ename": "ValueError",
     "evalue": "Expected 2D array, got 1D array instead:\narray=[6.43  6.176 5.682 5.935 5.926 6.398 6.998 5.683 6.153 5.741 6.195 6.376\n 5.56  6.674 8.398 6.185 5.813 6.172 5.983 6.474 5.85  6.943 6.437 5.872\n 6.254 6.546 7.178 6.538 4.903 4.906 5.52  6.212 6.826 6.951 6.749 5.019\n 6.683 5.878 6.251 6.319 5.569 5.887 5.987 6.8   6.718 6.229 6.411 6.13\n 6.442 5.012 6.879 7.236 6.167 6.433 6.101 8.375 6.975 7.412 6.273 6.122\n 6.525 8.259 5.731 7.088 6.495 5.762 6.395 5.349 7.686 7.52  7.358 4.652\n 6.484 5.841 7.287 6.151 4.97  6.226 6.209 6.38  5.927 6.715 7.079 7.014\n 6.012 8.78  6.976 7.241 6.066 6.122 6.315 5.747 5.604 6.382 6.377 4.368\n 6.137 6.619 5.966 5.782 5.877 6.162 7.041 6.549 7.274 6.794 5.628 6.405\n 4.926 6.193 6.565 5.856 5.093 6.163 5.468 6.606 6.854 8.069 6.728 5.961\n 6.563 7.61  6.108 5.871 6.59  5.663 5.757 5.852 6.23  5.986 6.616 6.618\n 5.648 6.373 5.637 5.565 7.148 5.706 6.968 6.242 6.127 5.79  6.009 7.016\n 5.935 5.913 6.98  4.973 6.54  6.316 5.905 5.936 8.247 6.567 5.854 5.942\n 7.107 7.333 8.337 5.928 5.87  5.884 8.266 4.138 5.968 5.693 6.453 6.434\n 6.127 4.138 6.417 5.822 3.863 6.069 5.67  6.29  7.923 6.63  6.358 7.831\n 5.896 6.51  5.889 5.933 6.495 5.875 5.403 6.404 6.939 6.164 6.625 6.115\n 6.897 6.649 5.536 6.86  6.77  5.818 6.051 6.326 7.645 6.108 6.782 7.147\n 7.454 7.393 6.727 8.04  6.833 6.375 5.837 5.88  7.82  6.63  6.182 5.966\n 6.03  5.95  8.297 6.083 7.135 6.655 6.047 6.193 5.981 7.203 6.315 7.802\n 6.38  5.857 6.456 6.335 6.431 7.061 5.631 6.312 5.713 7.104 6.871 6.096\n 5.272 7.024 6.223 5.759 5.608 5.888 6.812 5.627 6.794 5.895 6.631 5.783\n 5.807 6.678 6.317 6.438 5.926 6.209 6.982 6.49  5.92  6.162 7.489 6.211\n 6.642 6.343 6.951 5.972 6.842 5.851 5.998 5.39  6.421 6.341 5.454 5.602\n 6.824 6.727 5.891 6.096 6.348 7.327 6.202 4.963 6.405 5.985 6.229 6.511\n 6.014 7.206 6.095 5.949 5.705 7.007 5.    7.691 7.929 5.868 6.019 5.757\n 7.42  6.114 6.113 6.393 5.888 5.803 5.963 6.376 5.859 6.459 7.185 6.12\n 6.513 6.782 6.402 6.145 5.399 6.874 6.086 6.957 5.965 6.266 6.081 6.25\n 7.267 6.485 6.739 5.277 6.127 5.155 6.696 8.704 6.635 5.597 6.458 5.404\n 6.112 7.416 5.875 6.121 6.301 6.144 5.412 5.952 6.004 6.03  5.57  6.556\n 5.961 5.836 5.856 6.635 6.629 6.405].\nReshape your data either using array.reshape(-1, 1) if your data has a single feature or array.reshape(1, -1) if it contains a single sample.",
     "output_type": "error",
     "traceback": [
      "\u001b[0;31m---------------------------------------------------------------------------\u001b[0m",
      "\u001b[0;31mValueError\u001b[0m                                Traceback (most recent call last)",
      "\u001b[0;32m<ipython-input-71-c343fe218f5f>\u001b[0m in \u001b[0;36m<module>\u001b[0;34m\u001b[0m\n\u001b[1;32m      7\u001b[0m \u001b[0;34m\u001b[0m\u001b[0m\n\u001b[1;32m      8\u001b[0m \u001b[0mlinear_model\u001b[0m \u001b[0;34m=\u001b[0m \u001b[0mLinearRegression\u001b[0m\u001b[0;34m(\u001b[0m\u001b[0;34m)\u001b[0m\u001b[0;34m\u001b[0m\u001b[0;34m\u001b[0m\u001b[0m\n\u001b[0;32m----> 9\u001b[0;31m \u001b[0mlinear_model\u001b[0m\u001b[0;34m.\u001b[0m\u001b[0mfit\u001b[0m\u001b[0;34m(\u001b[0m\u001b[0mX_train\u001b[0m\u001b[0;34m,\u001b[0m \u001b[0my_train\u001b[0m\u001b[0;34m)\u001b[0m\u001b[0;34m\u001b[0m\u001b[0;34m\u001b[0m\u001b[0m\n\u001b[0m\u001b[1;32m     10\u001b[0m \u001b[0mlinear_model\u001b[0m\u001b[0;34m.\u001b[0m\u001b[0mscore\u001b[0m\u001b[0;34m(\u001b[0m\u001b[0mX_train\u001b[0m\u001b[0;34m,\u001b[0m \u001b[0my_train\u001b[0m\u001b[0;34m)\u001b[0m\u001b[0;34m,\u001b[0m \u001b[0mlinear_model\u001b[0m\u001b[0;34m.\u001b[0m\u001b[0mscore\u001b[0m\u001b[0;34m(\u001b[0m\u001b[0mX_test\u001b[0m\u001b[0;34m,\u001b[0m \u001b[0my_test\u001b[0m\u001b[0;34m)\u001b[0m\u001b[0;34m\u001b[0m\u001b[0;34m\u001b[0m\u001b[0m\n",
      "\u001b[0;32m~/anaconda3/lib/python3.7/site-packages/sklearn/linear_model/_base.py\u001b[0m in \u001b[0;36mfit\u001b[0;34m(self, X, y, sample_weight)\u001b[0m\n\u001b[1;32m    504\u001b[0m         \u001b[0mn_jobs_\u001b[0m \u001b[0;34m=\u001b[0m \u001b[0mself\u001b[0m\u001b[0;34m.\u001b[0m\u001b[0mn_jobs\u001b[0m\u001b[0;34m\u001b[0m\u001b[0;34m\u001b[0m\u001b[0m\n\u001b[1;32m    505\u001b[0m         X, y = self._validate_data(X, y, accept_sparse=['csr', 'csc', 'coo'],\n\u001b[0;32m--> 506\u001b[0;31m                                    y_numeric=True, multi_output=True)\n\u001b[0m\u001b[1;32m    507\u001b[0m \u001b[0;34m\u001b[0m\u001b[0m\n\u001b[1;32m    508\u001b[0m         \u001b[0;32mif\u001b[0m \u001b[0msample_weight\u001b[0m \u001b[0;32mis\u001b[0m \u001b[0;32mnot\u001b[0m \u001b[0;32mNone\u001b[0m\u001b[0;34m:\u001b[0m\u001b[0;34m\u001b[0m\u001b[0;34m\u001b[0m\u001b[0m\n",
      "\u001b[0;32m~/anaconda3/lib/python3.7/site-packages/sklearn/base.py\u001b[0m in \u001b[0;36m_validate_data\u001b[0;34m(self, X, y, reset, validate_separately, **check_params)\u001b[0m\n\u001b[1;32m    430\u001b[0m                 \u001b[0my\u001b[0m \u001b[0;34m=\u001b[0m \u001b[0mcheck_array\u001b[0m\u001b[0;34m(\u001b[0m\u001b[0my\u001b[0m\u001b[0;34m,\u001b[0m \u001b[0;34m**\u001b[0m\u001b[0mcheck_y_params\u001b[0m\u001b[0;34m)\u001b[0m\u001b[0;34m\u001b[0m\u001b[0;34m\u001b[0m\u001b[0m\n\u001b[1;32m    431\u001b[0m             \u001b[0;32melse\u001b[0m\u001b[0;34m:\u001b[0m\u001b[0;34m\u001b[0m\u001b[0;34m\u001b[0m\u001b[0m\n\u001b[0;32m--> 432\u001b[0;31m                 \u001b[0mX\u001b[0m\u001b[0;34m,\u001b[0m \u001b[0my\u001b[0m \u001b[0;34m=\u001b[0m \u001b[0mcheck_X_y\u001b[0m\u001b[0;34m(\u001b[0m\u001b[0mX\u001b[0m\u001b[0;34m,\u001b[0m \u001b[0my\u001b[0m\u001b[0;34m,\u001b[0m \u001b[0;34m**\u001b[0m\u001b[0mcheck_params\u001b[0m\u001b[0;34m)\u001b[0m\u001b[0;34m\u001b[0m\u001b[0;34m\u001b[0m\u001b[0m\n\u001b[0m\u001b[1;32m    433\u001b[0m             \u001b[0mout\u001b[0m \u001b[0;34m=\u001b[0m \u001b[0mX\u001b[0m\u001b[0;34m,\u001b[0m \u001b[0my\u001b[0m\u001b[0;34m\u001b[0m\u001b[0;34m\u001b[0m\u001b[0m\n\u001b[1;32m    434\u001b[0m \u001b[0;34m\u001b[0m\u001b[0m\n",
      "\u001b[0;32m~/anaconda3/lib/python3.7/site-packages/sklearn/utils/validation.py\u001b[0m in \u001b[0;36minner_f\u001b[0;34m(*args, **kwargs)\u001b[0m\n\u001b[1;32m     70\u001b[0m                           FutureWarning)\n\u001b[1;32m     71\u001b[0m         \u001b[0mkwargs\u001b[0m\u001b[0;34m.\u001b[0m\u001b[0mupdate\u001b[0m\u001b[0;34m(\u001b[0m\u001b[0;34m{\u001b[0m\u001b[0mk\u001b[0m\u001b[0;34m:\u001b[0m \u001b[0marg\u001b[0m \u001b[0;32mfor\u001b[0m \u001b[0mk\u001b[0m\u001b[0;34m,\u001b[0m \u001b[0marg\u001b[0m \u001b[0;32min\u001b[0m \u001b[0mzip\u001b[0m\u001b[0;34m(\u001b[0m\u001b[0msig\u001b[0m\u001b[0;34m.\u001b[0m\u001b[0mparameters\u001b[0m\u001b[0;34m,\u001b[0m \u001b[0margs\u001b[0m\u001b[0;34m)\u001b[0m\u001b[0;34m}\u001b[0m\u001b[0;34m)\u001b[0m\u001b[0;34m\u001b[0m\u001b[0;34m\u001b[0m\u001b[0m\n\u001b[0;32m---> 72\u001b[0;31m         \u001b[0;32mreturn\u001b[0m \u001b[0mf\u001b[0m\u001b[0;34m(\u001b[0m\u001b[0;34m**\u001b[0m\u001b[0mkwargs\u001b[0m\u001b[0;34m)\u001b[0m\u001b[0;34m\u001b[0m\u001b[0;34m\u001b[0m\u001b[0m\n\u001b[0m\u001b[1;32m     73\u001b[0m     \u001b[0;32mreturn\u001b[0m \u001b[0minner_f\u001b[0m\u001b[0;34m\u001b[0m\u001b[0;34m\u001b[0m\u001b[0m\n\u001b[1;32m     74\u001b[0m \u001b[0;34m\u001b[0m\u001b[0m\n",
      "\u001b[0;32m~/anaconda3/lib/python3.7/site-packages/sklearn/utils/validation.py\u001b[0m in \u001b[0;36mcheck_X_y\u001b[0;34m(X, y, accept_sparse, accept_large_sparse, dtype, order, copy, force_all_finite, ensure_2d, allow_nd, multi_output, ensure_min_samples, ensure_min_features, y_numeric, estimator)\u001b[0m\n\u001b[1;32m    800\u001b[0m                     \u001b[0mensure_min_samples\u001b[0m\u001b[0;34m=\u001b[0m\u001b[0mensure_min_samples\u001b[0m\u001b[0;34m,\u001b[0m\u001b[0;34m\u001b[0m\u001b[0;34m\u001b[0m\u001b[0m\n\u001b[1;32m    801\u001b[0m                     \u001b[0mensure_min_features\u001b[0m\u001b[0;34m=\u001b[0m\u001b[0mensure_min_features\u001b[0m\u001b[0;34m,\u001b[0m\u001b[0;34m\u001b[0m\u001b[0;34m\u001b[0m\u001b[0m\n\u001b[0;32m--> 802\u001b[0;31m                     estimator=estimator)\n\u001b[0m\u001b[1;32m    803\u001b[0m     \u001b[0;32mif\u001b[0m \u001b[0mmulti_output\u001b[0m\u001b[0;34m:\u001b[0m\u001b[0;34m\u001b[0m\u001b[0;34m\u001b[0m\u001b[0m\n\u001b[1;32m    804\u001b[0m         y = check_array(y, accept_sparse='csr', force_all_finite=True,\n",
      "\u001b[0;32m~/anaconda3/lib/python3.7/site-packages/sklearn/utils/validation.py\u001b[0m in \u001b[0;36minner_f\u001b[0;34m(*args, **kwargs)\u001b[0m\n\u001b[1;32m     70\u001b[0m                           FutureWarning)\n\u001b[1;32m     71\u001b[0m         \u001b[0mkwargs\u001b[0m\u001b[0;34m.\u001b[0m\u001b[0mupdate\u001b[0m\u001b[0;34m(\u001b[0m\u001b[0;34m{\u001b[0m\u001b[0mk\u001b[0m\u001b[0;34m:\u001b[0m \u001b[0marg\u001b[0m \u001b[0;32mfor\u001b[0m \u001b[0mk\u001b[0m\u001b[0;34m,\u001b[0m \u001b[0marg\u001b[0m \u001b[0;32min\u001b[0m \u001b[0mzip\u001b[0m\u001b[0;34m(\u001b[0m\u001b[0msig\u001b[0m\u001b[0;34m.\u001b[0m\u001b[0mparameters\u001b[0m\u001b[0;34m,\u001b[0m \u001b[0margs\u001b[0m\u001b[0;34m)\u001b[0m\u001b[0;34m}\u001b[0m\u001b[0;34m)\u001b[0m\u001b[0;34m\u001b[0m\u001b[0;34m\u001b[0m\u001b[0m\n\u001b[0;32m---> 72\u001b[0;31m         \u001b[0;32mreturn\u001b[0m \u001b[0mf\u001b[0m\u001b[0;34m(\u001b[0m\u001b[0;34m**\u001b[0m\u001b[0mkwargs\u001b[0m\u001b[0;34m)\u001b[0m\u001b[0;34m\u001b[0m\u001b[0;34m\u001b[0m\u001b[0m\n\u001b[0m\u001b[1;32m     73\u001b[0m     \u001b[0;32mreturn\u001b[0m \u001b[0minner_f\u001b[0m\u001b[0;34m\u001b[0m\u001b[0;34m\u001b[0m\u001b[0m\n\u001b[1;32m     74\u001b[0m \u001b[0;34m\u001b[0m\u001b[0m\n",
      "\u001b[0;32m~/anaconda3/lib/python3.7/site-packages/sklearn/utils/validation.py\u001b[0m in \u001b[0;36mcheck_array\u001b[0;34m(array, accept_sparse, accept_large_sparse, dtype, order, copy, force_all_finite, ensure_2d, allow_nd, ensure_min_samples, ensure_min_features, estimator)\u001b[0m\n\u001b[1;32m    621\u001b[0m                     \u001b[0;34m\"Reshape your data either using array.reshape(-1, 1) if \"\u001b[0m\u001b[0;34m\u001b[0m\u001b[0;34m\u001b[0m\u001b[0m\n\u001b[1;32m    622\u001b[0m                     \u001b[0;34m\"your data has a single feature or array.reshape(1, -1) \"\u001b[0m\u001b[0;34m\u001b[0m\u001b[0;34m\u001b[0m\u001b[0m\n\u001b[0;32m--> 623\u001b[0;31m                     \"if it contains a single sample.\".format(array))\n\u001b[0m\u001b[1;32m    624\u001b[0m \u001b[0;34m\u001b[0m\u001b[0m\n\u001b[1;32m    625\u001b[0m         \u001b[0;31m# in the future np.flexible dtypes will be handled like object dtypes\u001b[0m\u001b[0;34m\u001b[0m\u001b[0;34m\u001b[0m\u001b[0;34m\u001b[0m\u001b[0m\n",
      "\u001b[0;31mValueError\u001b[0m: Expected 2D array, got 1D array instead:\narray=[6.43  6.176 5.682 5.935 5.926 6.398 6.998 5.683 6.153 5.741 6.195 6.376\n 5.56  6.674 8.398 6.185 5.813 6.172 5.983 6.474 5.85  6.943 6.437 5.872\n 6.254 6.546 7.178 6.538 4.903 4.906 5.52  6.212 6.826 6.951 6.749 5.019\n 6.683 5.878 6.251 6.319 5.569 5.887 5.987 6.8   6.718 6.229 6.411 6.13\n 6.442 5.012 6.879 7.236 6.167 6.433 6.101 8.375 6.975 7.412 6.273 6.122\n 6.525 8.259 5.731 7.088 6.495 5.762 6.395 5.349 7.686 7.52  7.358 4.652\n 6.484 5.841 7.287 6.151 4.97  6.226 6.209 6.38  5.927 6.715 7.079 7.014\n 6.012 8.78  6.976 7.241 6.066 6.122 6.315 5.747 5.604 6.382 6.377 4.368\n 6.137 6.619 5.966 5.782 5.877 6.162 7.041 6.549 7.274 6.794 5.628 6.405\n 4.926 6.193 6.565 5.856 5.093 6.163 5.468 6.606 6.854 8.069 6.728 5.961\n 6.563 7.61  6.108 5.871 6.59  5.663 5.757 5.852 6.23  5.986 6.616 6.618\n 5.648 6.373 5.637 5.565 7.148 5.706 6.968 6.242 6.127 5.79  6.009 7.016\n 5.935 5.913 6.98  4.973 6.54  6.316 5.905 5.936 8.247 6.567 5.854 5.942\n 7.107 7.333 8.337 5.928 5.87  5.884 8.266 4.138 5.968 5.693 6.453 6.434\n 6.127 4.138 6.417 5.822 3.863 6.069 5.67  6.29  7.923 6.63  6.358 7.831\n 5.896 6.51  5.889 5.933 6.495 5.875 5.403 6.404 6.939 6.164 6.625 6.115\n 6.897 6.649 5.536 6.86  6.77  5.818 6.051 6.326 7.645 6.108 6.782 7.147\n 7.454 7.393 6.727 8.04  6.833 6.375 5.837 5.88  7.82  6.63  6.182 5.966\n 6.03  5.95  8.297 6.083 7.135 6.655 6.047 6.193 5.981 7.203 6.315 7.802\n 6.38  5.857 6.456 6.335 6.431 7.061 5.631 6.312 5.713 7.104 6.871 6.096\n 5.272 7.024 6.223 5.759 5.608 5.888 6.812 5.627 6.794 5.895 6.631 5.783\n 5.807 6.678 6.317 6.438 5.926 6.209 6.982 6.49  5.92  6.162 7.489 6.211\n 6.642 6.343 6.951 5.972 6.842 5.851 5.998 5.39  6.421 6.341 5.454 5.602\n 6.824 6.727 5.891 6.096 6.348 7.327 6.202 4.963 6.405 5.985 6.229 6.511\n 6.014 7.206 6.095 5.949 5.705 7.007 5.    7.691 7.929 5.868 6.019 5.757\n 7.42  6.114 6.113 6.393 5.888 5.803 5.963 6.376 5.859 6.459 7.185 6.12\n 6.513 6.782 6.402 6.145 5.399 6.874 6.086 6.957 5.965 6.266 6.081 6.25\n 7.267 6.485 6.739 5.277 6.127 5.155 6.696 8.704 6.635 5.597 6.458 5.404\n 6.112 7.416 5.875 6.121 6.301 6.144 5.412 5.952 6.004 6.03  5.57  6.556\n 5.961 5.836 5.856 6.635 6.629 6.405].\nReshape your data either using array.reshape(-1, 1) if your data has a single feature or array.reshape(1, -1) if it contains a single sample."
     ]
    }
   ],
   "source": [
    "X = housing_df.RM\n",
    "\n",
    "y = housing_df.target\n",
    "\n",
    "X_train, X_test, y_train, y_test = \\\n",
    "        train_test_split(X, y, test_size=0.3, random_state=42)\n",
    "\n",
    "linear_model = LinearRegression()\n",
    "linear_model.fit(X_train, y_train)\n",
    "linear_model.score(X_train, y_train), linear_model.score(X_test, y_test)"
   ]
  },
  {
   "cell_type": "markdown",
   "metadata": {},
   "source": [
    "### Why Am I getting a small P_value?\n",
    "Students are asked to look at the click through rates of users and determine if the rates between male users and female users are statistically different. They are asked to only use only the rows where the users are signed in.\n",
    "\n",
    "A student seems to be flying through the assignment but when they begin investigating the graphs after getting a small p_value, they are concerned they have made some mistakes. They are expecting graphs similar to what they saw in class if you get a small p_value. \n"
   ]
  },
  {
   "cell_type": "code",
   "execution_count": 193,
   "metadata": {},
   "outputs": [],
   "source": [
    "import scipy.stats as stats\n",
    "import numpy as np\n",
    "import seaborn as sns\n",
    "import matplotlib.pyplot as plt\n",
    "\n",
    "nyt_ctr_df = pd.read_csv('data/nyt1.csv')\n",
    "nyt_ctr_df['CTR'] = nyt_ctr_df.Clicks / nyt_ctr_df.Impressions\n",
    "\n",
    "# Want to filter out any records with 0 impressioins\n",
    "nyt_ctr_df = nyt_ctr_df[nyt_ctr_df.Impressions != 0].copy()\n",
    "\n",
    "#Get only the users that are signed in \n",
    "ctr_signed_in = nyt_ctr_df[nyt_ctr_df.Signed_In == 1].copy()\n",
    "ctr_not_signed_in = nyt_ctr_df[nyt_ctr_df.Signed_In == 0].copy()\n",
    "\n",
    "#split genders into their own Dfs\n",
    "male_ctr = ctr_signed_in[ctr_signed_in.Gender == 1]\n",
    "female_ctr = ctr_signed_in[ctr_signed_in.Gender == 0]"
   ]
  },
  {
   "cell_type": "code",
   "execution_count": 199,
   "metadata": {},
   "outputs": [
    {
     "name": "stdout",
     "output_type": "stream",
     "text": [
      "The test statistic is: -3.289756065935106 \n",
      "The P-value is: 0.0010028527313147612\n"
     ]
    }
   ],
   "source": [
    "# Null Hypothesis: click through rates between male users and female users are not statistically different.\n",
    "stat, p_val = stats.ttest_ind(male_ctr.CTR, female_ctr.CTR, equal_var=False)\n",
    "print('The test statistic is: {} \\nThe P-value is: {}'.format(stat ,p_val))"
   ]
  },
  {
   "cell_type": "code",
   "execution_count": 217,
   "metadata": {},
   "outputs": [
    {
     "data": {
      "image/png": "[encoded data removed]",
      "text/plain": [
       "<Figure size 432x288 with 1 Axes>"
      ]
     },
     "metadata": {
      "needs_background": "light"
     },
     "output_type": "display_data"
    }
   ],
   "source": [
    "male_ctr_mean, male_ctr_std = male_ctr.CTR.mean(), np.std(male_ctr.CTR)\n",
    "female_ctr_mean, female_ctr_std = female_ctr.CTR.mean(), np.std(female_ctr.CTR)\n",
    "m_norm = stats.norm(male_ctr_mean, male_ctr_std)\n",
    "f_norm = stats.norm(female_ctr_mean, female_ctr_std)\n",
    "\n",
    "x = np.linspace(-0.5,0.5, 1000)\n",
    "\n",
    "fig, ax = plt.subplots(1)\n",
    "ax.plot(x, m_norm.pdf(x), label = 'Male Distribution')\n",
    "ax.plot(x, f_norm.pdf(x), label = 'Female Distribution')\n",
    "\n",
    "ax.legend();"
   ]
  }
 ],
 "metadata": {
  "anaconda-cloud": {},
  "colab": {
   "collapsed_sections": [
    "tVxVRe-2iOXM",
    "WEv_mvpaftTC",
    "0fXjNlARiOXp",
    "h30gYGv0iOXk"
   ],
   "name": "Chelsea-python-interview.ipynb",
   "provenance": []
  },
  "kernelspec": {
   "display_name": "Python 3",
   "language": "python",
   "name": "python3"
  },
  "language_info": {
   "codemirror_mode": {
    "name": "ipython",
    "version": 3
   },
   "file_extension": ".py",
   "mimetype": "text/x-python",
   "name": "python",
   "nbconvert_exporter": "python",
   "pygments_lexer": "ipython3",
   "version": "3.7.7"
  }
 },
 "nbformat": 4,
 "nbformat_minor": 1
}
